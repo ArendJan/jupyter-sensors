{
 "cells": [
  {
   "cell_type": "code",
   "execution_count": null,
   "metadata": {},
   "outputs": [],
   "source": [
    "import sys\n",
    "!{sys.executable} -m pip install git+https://github.com/arendjan/tmx-pico-aio.git@sensors\n",
    "!{sys.executable} -m pip install nest_asyncio"
   ]
  },
  {
   "cell_type": "markdown",
   "metadata": {},
   "source": [
    "Hardware setup:\n",
    "\n",
    "![button](images/ldr_bb.png)\n",
    "\n",
    "Pico connections:\n",
    "\n",
    "|Pin # | type  | connection |\n",
    "|-------|------|------------|\n",
    "| 18   | GND   |            |\n",
    "| 31   | GP26  |Analog input, ADC0    |\n",
    "| 36   | 3V3   |            |\n",
    "\n"
   ]
  },
  {
   "cell_type": "code",
   "execution_count": null,
   "metadata": {},
   "outputs": [],
   "source": [
    "import asyncio\n",
    "import sys\n",
    "import time\n",
    "from tmx_pico_aio import tmx_pico_aio\n",
    "import nest_asyncio\n",
    "import struct\n",
    "nest_asyncio.apply() # for jupyter notebook asyncio stuff\n",
    "\n",
    "loop = asyncio.get_event_loop()\n",
    "\n",
    "board = tmx_pico_aio.TmxPicoAio(loop=loop)"
   ]
  },
  {
   "cell_type": "markdown",
   "metadata": {},
   "source": [
    "Add your callback, like printing or adding it to a list"
   ]
  },
  {
   "cell_type": "code",
   "execution_count": null,
   "metadata": {},
   "outputs": [],
   "source": [
    "MAX_ADC = 2**12\n",
    "R1 = 10_000 # other resistor value, 10k\n",
    "MAX_V = 3.3\n",
    "ldr_vcc = True # is the ldr connected to VCC or the constant resistor\n",
    "\n",
    "def calculate_ldr_resistance(adc_val):\n",
    "    volt = adc_val/MAX_ADC*MAX_V\n",
    "    # ratio = R1 : R_ldr\n",
    "    ratio = volt/MAX_V if ldr_vcc else 1-volt/MAX_V\n",
    "    factor = (1/ratio -1)\n",
    "    ldr_res = factor * R1\n",
    "    # print(f\"a: {adc_val}  v: {volt} r: {ratio} fac: {factor}, ldr: {ldr_res}\")\n",
    "    return ldr_res\n",
    "\n",
    "\n",
    "async def the_callback(data): # only will be called when there is a change\n",
    "    adc_val = data[2]\n",
    "    print(calculate_ldr_resistance(adc_val) )"
   ]
  },
  {
   "cell_type": "markdown",
   "metadata": {},
   "source": [
    "Add the sensor to the system"
   ]
  },
  {
   "cell_type": "code",
   "execution_count": null,
   "metadata": {},
   "outputs": [],
   "source": [
    "async def addSensor(board):\n",
    "    await asyncio.sleep(1)\n",
    "    adc = 0 # pin GP26\n",
    "    await board.set_pin_mode_analog_input(adc, differential=0, callback=the_callback)\n",
    "\n",
    "loop.run_until_complete(addSensor(board))\n",
    "\n"
   ]
  },
  {
   "cell_type": "markdown",
   "metadata": {},
   "source": [
    "Run for some time"
   ]
  },
  {
   "cell_type": "code",
   "execution_count": null,
   "metadata": {},
   "outputs": [],
   "source": [
    "async def run_till_end(board):\n",
    "    # when to stop?\n",
    "    await asyncio.sleep(10)\n",
    "    await board.shutdown() # Otherwise next start will give you errors and you need to restart the kernel\n",
    "    await asyncio.sleep(1)\n",
    "    print(\"done\")\n",
    "\n",
    "loop.run_until_complete(run_till_end(board))"
   ]
  }
 ],
 "metadata": {
  "kernelspec": {
   "display_name": "Python 3",
   "language": "python",
   "name": "python3"
  },
  "language_info": {
   "codemirror_mode": {
    "name": "ipython",
    "version": 3
   },
   "file_extension": ".py",
   "mimetype": "text/x-python",
   "name": "python",
   "nbconvert_exporter": "python",
   "pygments_lexer": "ipython3",
   "version": "3.11.4"
  },
  "orig_nbformat": 4
 },
 "nbformat": 4,
 "nbformat_minor": 2
}
