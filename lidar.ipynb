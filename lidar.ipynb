{
 "cells": [
  {
   "cell_type": "code",
   "execution_count": null,
   "metadata": {},
   "outputs": [],
   "source": [
    "if True:\n",
    "    %pip install pyserial"
   ]
  },
  {
   "cell_type": "code",
   "execution_count": null,
   "metadata": {},
   "outputs": [],
   "source": [
    "import math\n",
    "import CalcLidarData # local file\n",
    "\n",
    "# Lidar code adapted from https://github.com/henjin0/LIDAR_LD06_python_loder\n",
    "# Download and run that to see a pointcloud\n",
    "# MIT license"
   ]
  },
  {
   "cell_type": "markdown",
   "metadata": {},
   "source": [
    "Hardware setup:\n",
    "\n",
    "Connect the lidar to your computer\n"
   ]
  },
  {
   "cell_type": "code",
   "execution_count": null,
   "metadata": {},
   "outputs": [],
   "source": [
    "\n",
    "import serial\n",
    "\n",
    " \n",
    "ser = serial.Serial(port='COM69', # TODO: change this to your com port or /dev/tty... or /dev/ACM\n",
    "                    baudrate=230400,\n",
    "                    timeout=5.0,\n",
    "                    bytesize=8,\n",
    "                    parity='N',\n",
    "                    stopbits=1)\n"
   ]
  },
  {
   "cell_type": "markdown",
   "metadata": {},
   "source": [
    "Add your callback, like printing or adding it to a list"
   ]
  },
  {
   "cell_type": "code",
   "execution_count": null,
   "metadata": {},
   "outputs": [],
   "source": [
    "l = []\n",
    "def the_callback(data): # First sample will be shorter\n",
    "    # print(data)\n",
    "    # data: list of [angle, dist], sorted by angle, starting with lowest\n",
    "    # angle is in radians, clockwise seen from above\n",
    "    l.append(data)"
   ]
  },
  {
   "cell_type": "markdown",
   "metadata": {},
   "source": [
    "Run for some time, default is max amount of samples, but you can change it to anything you want, like time based, triggered by some value, ..."
   ]
  },
  {
   "cell_type": "code",
   "execution_count": null,
   "metadata": {},
   "outputs": [],
   "source": [
    "max_samples = 100\n",
    "\n",
    "\n",
    "angles = list()\n",
    "distances = list()\n",
    "i = 0\n",
    "tmpString = \"\"\n",
    "sample = 0\n",
    "while sample < max_samples:\n",
    "    all_b = ser.read_all()\n",
    "    for b in all_b:\n",
    "        tmpInt = int( b)\n",
    "        b = bytes([b])\n",
    "        if (tmpInt == 0x54):\n",
    "            tmpString +=  b.hex()+\" \"\n",
    "            flag2c = True\n",
    "            continue\n",
    "        \n",
    "        elif(tmpInt == 0x2c and flag2c):\n",
    "            tmpString += b.hex()\n",
    "            if(not len(tmpString[0:-5].replace(' ','')) == 90 ):\n",
    "                tmpString = \"\"\n",
    "                loopFlag = False\n",
    "                flag2c = False\n",
    "                continue\n",
    "\n",
    "            lidarData = CalcLidarData.CalcLidarData(tmpString[0:-5])\n",
    "            angles.extend(lidarData.Angle_i)\n",
    "            distances.extend(lidarData.Distance_i)\n",
    "            if(len(angles) > 50*12):\n",
    "                split = [i for i in range(len(angles)-1) if angles[i+1]< angles[i]]\n",
    "                first = angles[:split[0]+1]\n",
    "                angles = angles[split[0]+1:]\n",
    "                firstDist = distances[:split[0]+1]\n",
    "                distances = distances[split[0]+1:]\n",
    "                the_callback(list(zip(first, firstDist)))\n",
    "                sample+=1\n",
    "            tmpString = \"\"\n",
    "        else:\n",
    "            tmpString += b.hex()+\" \"\n",
    "        \n",
    "        flag2c = False\n",
    "\n",
    "ser.close()"
   ]
  },
  {
   "cell_type": "markdown",
   "metadata": {},
   "source": [
    "Do some fancy stuff with the data:"
   ]
  },
  {
   "cell_type": "code",
   "execution_count": null,
   "metadata": {},
   "outputs": [],
   "source": [
    "print(len(l), [len(i) for i in l])\n",
    "# First sample will always be a bit shorter"
   ]
  }
 ],
 "metadata": {
  "kernelspec": {
   "display_name": "Python 3",
   "language": "python",
   "name": "python3"
  },
  "language_info": {
   "codemirror_mode": {
    "name": "ipython",
    "version": 3
   },
   "file_extension": ".py",
   "mimetype": "text/x-python",
   "name": "python",
   "nbconvert_exporter": "python",
   "pygments_lexer": "ipython3",
   "version": "3.11.4"
  },
  "orig_nbformat": 4
 },
 "nbformat": 4,
 "nbformat_minor": 2
}
