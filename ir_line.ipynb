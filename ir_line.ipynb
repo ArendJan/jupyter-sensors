{
 "cells": [
  {
   "cell_type": "code",
   "execution_count": null,
   "metadata": {},
   "outputs": [],
   "source": [
    "import sys\n",
    "!{sys.executable} -m pip install --upgrade --force-reinstall git+https://github.com/arendjan/tmx-pico-aio.git@sensors\n",
    "!{sys.executable} -m pip install nest_asyncio"
   ]
  },
  {
   "cell_type": "markdown",
   "metadata": {},
   "source": [
    "Create a board object:"
   ]
  },
  {
   "cell_type": "code",
   "execution_count": null,
   "metadata": {},
   "outputs": [],
   "source": [
    "import asyncio\n",
    "import sys\n",
    "import time\n",
    "from tmx_pico_aio import tmx_pico_aio\n",
    "import nest_asyncio\n",
    "import struct\n",
    "nest_asyncio.apply() # for jupyter notebook asyncio stuff\n",
    "\n",
    "loop = asyncio.get_event_loop()\n",
    "\n",
    "board = tmx_pico_aio.TmxPicoAio(loop=loop)"
   ]
  },
  {
   "cell_type": "markdown",
   "metadata": {},
   "source": [
    "Add your callback, like printing or adding it to a list"
   ]
  },
  {
   "cell_type": "code",
   "execution_count": null,
   "metadata": {},
   "outputs": [],
   "source": [
    "adc_max = 2**12\n",
    "\n",
    "async def digital_callback(data): # only will be called when there is a change\n",
    "    print(\"d:\",data[2])\n",
    "async def analog_callback(data): # only will be called when there is a change\n",
    "    print(\"a:\",data[2])"
   ]
  },
  {
   "cell_type": "markdown",
   "metadata": {},
   "source": [
    "Add the sensor to the system"
   ]
  },
  {
   "cell_type": "code",
   "execution_count": null,
   "metadata": {},
   "outputs": [],
   "source": [
    "async def addSensor(board):\n",
    "    await asyncio.sleep(1)\n",
    "    analog_pin = 0 # pin GP26\n",
    "    digital_pin = 16\n",
    "    await board.set_pin_mode_analog_input(analog_pin, differential=0, callback=analog_callback)\n",
    "    await board.set_pin_mode_digital_input(digital_pin, callback=digital_callback)\n",
    "\n",
    "\n",
    "loop.run_until_complete(addSensor(board))\n",
    "\n"
   ]
  },
  {
   "cell_type": "markdown",
   "metadata": {},
   "source": [
    "Run for some time"
   ]
  },
  {
   "cell_type": "code",
   "execution_count": null,
   "metadata": {},
   "outputs": [],
   "source": [
    "async def run_till_end(board):\n",
    "    # when to stop?\n",
    "    await asyncio.sleep(10)\n",
    "    await board.shutdown() # Otherwise next start will give you errors and you need to restart the kernel\n",
    "    await asyncio.sleep(1)\n",
    "    print(\"done\")\n",
    "\n",
    "loop.run_until_complete(run_till_end(board))"
   ]
  }
 ],
 "metadata": {
  "kernelspec": {
   "display_name": "Python 3",
   "language": "python",
   "name": "python3"
  },
  "language_info": {
   "codemirror_mode": {
    "name": "ipython",
    "version": 3
   },
   "file_extension": ".py",
   "mimetype": "text/x-python",
   "name": "python",
   "nbconvert_exporter": "python",
   "pygments_lexer": "ipython3",
   "version": "3.11.4"
  },
  "orig_nbformat": 4
 },
 "nbformat": 4,
 "nbformat_minor": 2
}
