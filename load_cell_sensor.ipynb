{
 "cells": [
  {
   "cell_type": "code",
   "execution_count": null,
   "metadata": {},
   "outputs": [],
   "source": [
    "import sys\n",
    "!{sys.executable} -m pip install git+https://github.com/arendjan/tmx-pico-aio.git@sensors\n",
    "!{sys.executable} -m pip install nest_asyncio"
   ]
  },
  {
   "cell_type": "markdown",
   "metadata": {},
   "source": [
    "Hardware setup:\n",
    "\n",
    "You'll need 2 breadboards to fit the larger size ADC module. Might need to cut off one of the power rails.\n",
    "\n",
    "![button](images/load_cell_bb.png)\n",
    "\n",
    "Pico connections:\n",
    "\n",
    "|Pin # | type  | connection |\n",
    "|-------|------|------------|\n",
    "| 18   | GND   |         |\n",
    "| 19   | GP14  | SCK, clock output    |\n",
    "| 20   | GP15  | DT, data input      |\n",
    "| 36   | 3V3   |          |\n",
    "\n",
    "Load cell connection:\n",
    "|Color | ADC name  | type |\n",
    "|-------|------|------------|\n",
    "| Red   | E+   | Excitation +        |\n",
    "| Black  | E-  |    Excitation -  |\n",
    "| White| A-  | Input A-   |\n",
    "| Green| A+   |    Input A+      |\n",
    "\n",
    "The data received will be the difference between A- and A+. \n",
    "\n"
   ]
  },
  {
   "cell_type": "code",
   "execution_count": null,
   "metadata": {},
   "outputs": [],
   "source": [
    "import asyncio\n",
    "import sys\n",
    "import time\n",
    "from tmx_pico_aio import tmx_pico_aio\n",
    "import nest_asyncio\n",
    "import struct\n",
    "nest_asyncio.apply() # for jupyter notebook asyncio stuff\n",
    "\n",
    "loop = asyncio.get_event_loop()\n",
    "\n",
    "board = tmx_pico_aio.TmxPicoAio(loop=loop)"
   ]
  },
  {
   "cell_type": "markdown",
   "metadata": {},
   "source": [
    "Add your callback, like printing or adding it to a list"
   ]
  },
  {
   "cell_type": "code",
   "execution_count": null,
   "metadata": {},
   "outputs": [],
   "source": [
    "async def the_callback(data):\n",
    "    # print(data)\n",
    "    [value] = list(struct.unpack('<i', b''.join(list(map(lambda i:i.to_bytes(1, 'big'), data)))))\n",
    "    print(f\"val: {str(value): >8}\")"
   ]
  },
  {
   "cell_type": "markdown",
   "metadata": {},
   "source": [
    "Add the sensor to the system"
   ]
  },
  {
   "cell_type": "code",
   "execution_count": null,
   "metadata": {},
   "outputs": [],
   "source": [
    "async def addSensor(board):\n",
    "    await asyncio.sleep(1)\n",
    "    sck = 14\n",
    "    dt = 15\n",
    "    # note: this sensor does not use i2c!\n",
    "    await board.sensors.add_hx711(out=dt,sck=sck,callback=the_callback)\n",
    "\n",
    "loop.run_until_complete(addSensor(board))\n",
    "\n"
   ]
  },
  {
   "cell_type": "markdown",
   "metadata": {},
   "source": [
    "Run for some time"
   ]
  },
  {
   "cell_type": "code",
   "execution_count": null,
   "metadata": {},
   "outputs": [],
   "source": [
    "async def run_till_end(board):\n",
    "    # when to stop?\n",
    "    await asyncio.sleep(10)\n",
    "    await board.shutdown() # Otherwise next start will give you errors and you need to restart the kernel\n",
    "    await asyncio.sleep(1)\n",
    "    print(\"done\")\n",
    "\n",
    "loop.run_until_complete(run_till_end(board))"
   ]
  }
 ],
 "metadata": {
  "kernelspec": {
   "display_name": "Python 3",
   "language": "python",
   "name": "python3"
  },
  "language_info": {
   "codemirror_mode": {
    "name": "ipython",
    "version": 3
   },
   "file_extension": ".py",
   "mimetype": "text/x-python",
   "name": "python",
   "nbconvert_exporter": "python",
   "pygments_lexer": "ipython3",
   "version": "3.11.4"
  },
  "orig_nbformat": 4
 },
 "nbformat": 4,
 "nbformat_minor": 2
}
