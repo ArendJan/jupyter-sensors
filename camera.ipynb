{
 "cells": [
  {
   "cell_type": "code",
   "execution_count": null,
   "metadata": {},
   "outputs": [],
   "source": [
    "if True:\n",
    "    %pip install opencv-python"
   ]
  },
  {
   "cell_type": "code",
   "execution_count": null,
   "metadata": {},
   "outputs": [],
   "source": [
    "import cv2\n",
    "from IPython.display import display, Image"
   ]
  },
  {
   "cell_type": "markdown",
   "metadata": {},
   "source": [
    "Hardware setup:\n",
    "\n",
    "Connect the camera to your computer\n"
   ]
  },
  {
   "cell_type": "code",
   "execution_count": null,
   "metadata": {},
   "outputs": [],
   "source": [
    "# TODO: Might be camera 1\n",
    "cam = cv2.VideoCapture(0, cv2.CAP_DSHOW)\n",
    "if cam is None or not cam.isOpened():\n",
    "    print(\"No camera\")\n",
    "    # Other cells will still run..."
   ]
  },
  {
   "cell_type": "markdown",
   "metadata": {},
   "source": [
    "Capture frames and show them:"
   ]
  },
  {
   "cell_type": "code",
   "execution_count": null,
   "metadata": {},
   "outputs": [],
   "source": [
    "# Single frame:\n",
    "# result, image = cam.read()\n",
    "\n",
    "max_frames = 100\n",
    "frameNum = 0\n",
    "frames = []\n",
    "display_handle=display(None, display_id=True, clear=True) # To show the image in the notebook\n",
    "while frameNum < max_frames:\n",
    "    _, frame = cam.read()\n",
    "    frame = cv2.flip(frame, 1) # if your camera reverses your image\n",
    "    _, frame = cv2.imencode('.jpeg', frame)\n",
    "    display_handle.update(Image(data=frame.tobytes()))\n",
    "    frames.append(frame)\n",
    "    frameNum-=-1\n",
    "\n",
    "cam.release()"
   ]
  },
  {
   "cell_type": "code",
   "execution_count": null,
   "metadata": {},
   "outputs": [],
   "source": [
    "# Do something with the image data:\n",
    "print(len(frames))"
   ]
  }
 ],
 "metadata": {
  "kernelspec": {
   "display_name": "Python 3",
   "language": "python",
   "name": "python3"
  },
  "language_info": {
   "codemirror_mode": {
    "name": "ipython",
    "version": 3
   },
   "file_extension": ".py",
   "mimetype": "text/x-python",
   "name": "python",
   "nbconvert_exporter": "python",
   "pygments_lexer": "ipython3",
   "version": "3.11.4"
  },
  "orig_nbformat": 4
 },
 "nbformat": 4,
 "nbformat_minor": 2
}
