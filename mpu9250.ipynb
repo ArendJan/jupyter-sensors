{
 "cells": [
  {
   "cell_type": "code",
   "execution_count": null,
   "metadata": {},
   "outputs": [],
   "source": [
    "import sys\n",
    "!{sys.executable} -m pip install --upgrade --force-reinstall git+https://github.com/arendjan/tmx-pico-aio.git@sensors\n",
    "!{sys.executable} -m pip install nest_asyncio"
   ]
  },
  {
   "cell_type": "markdown",
   "metadata": {},
   "source": [
    "Create a board and connect your components:"
   ]
  },
  {
   "cell_type": "code",
   "execution_count": null,
   "metadata": {},
   "outputs": [],
   "source": [
    "import asyncio\n",
    "import sys\n",
    "import time\n",
    "from tmx_pico_aio import tmx_pico_aio\n",
    "import nest_asyncio\n",
    "import struct\n",
    "nest_asyncio.apply() # for jupyter notebook asyncio stuff\n",
    "\n",
    "loop = asyncio.get_event_loop()\n",
    "\n",
    "board = tmx_pico_aio.TmxPicoAio(loop=loop)"
   ]
  },
  {
   "cell_type": "markdown",
   "metadata": {},
   "source": [
    "Add your callback, like printing or adding it to a list"
   ]
  },
  {
   "cell_type": "code",
   "execution_count": null,
   "metadata": {},
   "outputs": [],
   "source": [
    "async def the_callback(data):\n",
    "    # print(data)\n",
    "    ints = list( map(lambda i:i.to_bytes(1, 'big'), data))\n",
    "    bytes_obj = b''.join(ints)\n",
    "    vals = list(struct.unpack('<9f', bytes_obj))\n",
    "    print(f\"x: {vals[0]: >8.2f} y: {vals[1]: >8.2f} z: {vals[2]: >8.2f} rx: {vals[3]: >8.2f} ry: {vals[4]: >8.2f} rz: {vals[5]: >8.2f} gx: {vals[6]: >8.2f} gy: {vals[7]: >8.2f} gz: {vals[8]: >8.2f}\")\n"
   ]
  },
  {
   "cell_type": "markdown",
   "metadata": {},
   "source": [
    "Add the sensor to the system"
   ]
  },
  {
   "cell_type": "code",
   "execution_count": null,
   "metadata": {},
   "outputs": [],
   "source": [
    "async def addSensor(board):\n",
    "    await asyncio.sleep(1)\n",
    "    i2c_port = 0\n",
    "    scl = 5\n",
    "    sda = 4\n",
    "    await board.set_pin_mode_i2c(i2c_port, sda, scl)\n",
    "    await asyncio.sleep(0.1)\n",
    "    await board.sensors.add_mpu9250(i2c_port, the_callback)\n",
    "\n",
    "loop.run_until_complete(addSensor(board))\n",
    "\n"
   ]
  },
  {
   "cell_type": "markdown",
   "metadata": {},
   "source": [
    "Run for some time"
   ]
  },
  {
   "cell_type": "code",
   "execution_count": null,
   "metadata": {},
   "outputs": [],
   "source": [
    "async def run_till_end(board):\n",
    "    # when to stop?\n",
    "    await asyncio.sleep(10)\n",
    "    await board.shutdown() # Otherwise next start will give you errors and you need to restart the kernel\n",
    "    await asyncio.sleep(1)\n",
    "    print(\"done\")\n",
    "\n",
    "loop.run_until_complete(run_till_end(board))"
   ]
  }
 ],
 "metadata": {
  "kernelspec": {
   "display_name": "Python 3",
   "language": "python",
   "name": "python3"
  },
  "language_info": {
   "codemirror_mode": {
    "name": "ipython",
    "version": 3
   },
   "file_extension": ".py",
   "mimetype": "text/x-python",
   "name": "python",
   "nbconvert_exporter": "python",
   "pygments_lexer": "ipython3",
   "version": "3.11.4"
  },
  "orig_nbformat": 4
 },
 "nbformat": 4,
 "nbformat_minor": 2
}
