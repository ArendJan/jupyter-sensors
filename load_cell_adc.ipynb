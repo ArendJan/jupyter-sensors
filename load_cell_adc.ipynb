{
 "cells": [
  {
   "cell_type": "code",
   "execution_count": null,
   "metadata": {},
   "outputs": [],
   "source": [
    "if True:\n",
    "    %pip install git+https://github.com/arendjan/tmx-pico-aio.git@sensors\n",
    "    %pip install nest_asyncio"
   ]
  },
  {
   "cell_type": "markdown",
   "metadata": {},
   "source": [
    "Hardware setup:\n",
    "\n",
    "![button](images/load_cell_adc_bb.png)\n",
    "\n",
    "Pico connections:\n",
    "\n",
    "|Pin # | type  | connection |\n",
    "|-------|------|------------|\n",
    "| 18   | GND   |   Excitation -         |\n",
    "| 31   | GP26  | Analog input, ADC0      |\n",
    "| 32   | GP27  | Analog input, ADC1      |\n",
    "| 36   | 3V3   |   Excitation +         |\n",
    "\n"
   ]
  },
  {
   "cell_type": "code",
   "execution_count": null,
   "metadata": {},
   "outputs": [],
   "source": [
    "import asyncio\n",
    "import sys\n",
    "import time\n",
    "from tmx_pico_aio import tmx_pico_aio\n",
    "import nest_asyncio\n",
    "import struct\n",
    "nest_asyncio.apply() # for jupyter notebook asyncio stuff\n",
    "\n",
    "loop = asyncio.get_event_loop()\n",
    "\n",
    "board = tmx_pico_aio.TmxPicoAio(loop=loop)"
   ]
  },
  {
   "cell_type": "markdown",
   "metadata": {},
   "source": [
    "Add your callback, like printing or adding it to a list"
   ]
  },
  {
   "cell_type": "code",
   "execution_count": null,
   "metadata": {},
   "outputs": [],
   "source": [
    "lastA = 0\n",
    "async def the_callback(data): # only will be called when there is a change\n",
    "    global lastA\n",
    "    lastA = data[2]\n",
    "    print(\"a:\", data[2])\n",
    "async def the_callback2(data): # only will be called when there is a change\n",
    "    print(\"b:\", data[2], data[2]-lastA)"
   ]
  },
  {
   "cell_type": "markdown",
   "metadata": {},
   "source": [
    "Add the sensor to the system"
   ]
  },
  {
   "cell_type": "code",
   "execution_count": null,
   "metadata": {},
   "outputs": [],
   "source": [
    "async def addSensor(board):\n",
    "    await asyncio.sleep(1)\n",
    "    adc = 0 # pin GP26\n",
    "    adc2 = 1 # pin GP27\n",
    "    await board.set_pin_mode_analog_input(adc, differential=0, callback=the_callback)\n",
    "    await board.set_pin_mode_analog_input(adc2, differential=0, callback=the_callback2)\n",
    "\n",
    "loop.run_until_complete(addSensor(board))\n",
    "\n"
   ]
  },
  {
   "cell_type": "markdown",
   "metadata": {},
   "source": [
    "Run for some time"
   ]
  },
  {
   "cell_type": "code",
   "execution_count": null,
   "metadata": {},
   "outputs": [],
   "source": [
    "async def run_till_end(board):\n",
    "    # when to stop?\n",
    "    await asyncio.sleep(10)\n",
    "    await board.shutdown() # Otherwise next start will give you errors and you need to restart the kernel\n",
    "    await asyncio.sleep(1)\n",
    "    print(\"done\")\n",
    "\n",
    "loop.run_until_complete(run_till_end(board))"
   ]
  }
 ],
 "metadata": {
  "kernelspec": {
   "display_name": "Python 3",
   "language": "python",
   "name": "python3"
  },
  "language_info": {
   "codemirror_mode": {
    "name": "ipython",
    "version": 3
   },
   "file_extension": ".py",
   "mimetype": "text/x-python",
   "name": "python",
   "nbconvert_exporter": "python",
   "pygments_lexer": "ipython3",
   "version": "3.11.4"
  },
  "orig_nbformat": 4
 },
 "nbformat": 4,
 "nbformat_minor": 2
}
