{
 "cells": [
  {
   "cell_type": "code",
   "execution_count": 6,
   "metadata": {},
   "outputs": [
    {
     "name": "stdout",
     "output_type": "stream",
     "text": [
      "Collecting git+https://github.com/arendjan/tmx-pico-aio.git@sensors\n",
      "  Cloning https://github.com/arendjan/tmx-pico-aio.git (to revision sensors) to c:\\users\\arendjanvanhil\\appdata\\local\\temp\\pip-req-build-zh1cc12d\n",
      "  Resolved https://github.com/arendjan/tmx-pico-aio.git to commit 98a214d262a9602b4ea6b33a635d58356411ad06\n",
      "  Installing build dependencies: started\n",
      "  Installing build dependencies: finished with status 'done'\n",
      "  Getting requirements to build wheel: started\n",
      "  Getting requirements to build wheel: finished with status 'done'\n",
      "  Preparing metadata (pyproject.toml): started\n",
      "  Preparing metadata (pyproject.toml): finished with status 'done'\n",
      "Collecting pyserial (from tmx-pico-aio==1.3)\n",
      "  Using cached pyserial-3.5-py2.py3-none-any.whl (90 kB)\n",
      "Collecting aioserial (from tmx-pico-aio==1.3)\n",
      "  Using cached aioserial-1.3.1-py3-none-any.whl\n",
      "Building wheels for collected packages: tmx-pico-aio\n",
      "  Building wheel for tmx-pico-aio (pyproject.toml): started\n",
      "  Building wheel for tmx-pico-aio (pyproject.toml): finished with status 'done'\n",
      "  Created wheel for tmx-pico-aio: filename=tmx_pico_aio-1.3-py3-none-any.whl size=32764 sha256=3f4bc966d9caf5698ffc67147b7a049e67a64fae926ef322dd7b82728924d30a\n",
      "  Stored in directory: C:\\Users\\arendjanvanhil\\AppData\\Local\\Temp\\pip-ephem-wheel-cache-ohp21c5x\\wheels\\1c\\4f\\5c\\a235d1789f13b2c95cbcba16067f910096d51385f2043ef27e\n",
      "Successfully built tmx-pico-aio\n",
      "Installing collected packages: pyserial, aioserial, tmx-pico-aio\n",
      "  Attempting uninstall: pyserial\n",
      "    Found existing installation: pyserial 3.5\n",
      "    Uninstalling pyserial-3.5:\n",
      "      Successfully uninstalled pyserial-3.5\n",
      "  Attempting uninstall: aioserial\n",
      "    Found existing installation: aioserial 1.3.1\n",
      "    Uninstalling aioserial-1.3.1:\n",
      "      Successfully uninstalled aioserial-1.3.1\n",
      "  Attempting uninstall: tmx-pico-aio\n",
      "    Found existing installation: tmx-pico-aio 1.3\n",
      "    Uninstalling tmx-pico-aio-1.3:\n",
      "      Successfully uninstalled tmx-pico-aio-1.3\n",
      "Successfully installed aioserial-1.3.1 pyserial-3.5 tmx-pico-aio-1.3\n"
     ]
    },
    {
     "name": "stderr",
     "output_type": "stream",
     "text": [
      "  Running command git clone --filter=blob:none --quiet https://github.com/arendjan/tmx-pico-aio.git 'C:\\Users\\arendjanvanhil\\AppData\\Local\\Temp\\pip-req-build-zh1cc12d'\n",
      "  Running command git checkout -b sensors --track origin/sensors\n",
      "  branch 'sensors' set up to track 'origin/sensors'.\n",
      "  Switched to a new branch 'sensors'\n"
     ]
    },
    {
     "name": "stdout",
     "output_type": "stream",
     "text": [
      "Requirement already satisfied: nest_asyncio in c:\\users\\arendjanvanhil\\appdata\\local\\packages\\pythonsoftwarefoundation.python.3.11_qbz5n2kfra8p0\\localcache\\local-packages\\python311\\site-packages (1.5.7)\n"
     ]
    }
   ],
   "source": [
    "import sys\n",
    "!{sys.executable} -m pip install --upgrade --force-reinstall git+https://github.com/arendjan/tmx-pico-aio.git@sensors\n",
    "!{sys.executable} -m pip install nest_asyncio"
   ]
  },
  {
   "cell_type": "markdown",
   "metadata": {},
   "source": [
    "Create a board and connect your components:"
   ]
  },
  {
   "cell_type": "code",
   "execution_count": 7,
   "metadata": {},
   "outputs": [
    {
     "name": "stdout",
     "output_type": "stream",
     "text": [
      "TelemetrixRpiPicoAio:  Version 1.5\n",
      "\n",
      "Copyright (c) 2021 Alan Yorinks All Rights Reserved.\n",
      "\n",
      "Opening all potential serial ports...\n",
      "\tCOM13\n",
      "Retrieving pico ID...\n",
      "Pico Unique ID: [230, 97, 100, 8, 67, 88, 0, 0]\n",
      "Telemetrix4RPiPico Version Number: 1.2\n"
     ]
    }
   ],
   "source": [
    "import asyncio\n",
    "import sys\n",
    "import time\n",
    "from tmx_pico_aio import tmx_pico_aio\n",
    "import nest_asyncio\n",
    "import struct\n",
    "nest_asyncio.apply() # for jupyter notebook asyncio stuff\n",
    "\n",
    "loop = asyncio.get_event_loop()\n",
    "\n",
    "board = tmx_pico_aio.TmxPicoAio(loop=loop)"
   ]
  },
  {
   "cell_type": "markdown",
   "metadata": {},
   "source": [
    "Add your callback, like printing or adding it to a list"
   ]
  },
  {
   "cell_type": "code",
   "execution_count": 8,
   "metadata": {},
   "outputs": [],
   "source": [
    "async def the_callback(data): # only will be called when there is a change\n",
    "    print(data[2])"
   ]
  },
  {
   "cell_type": "markdown",
   "metadata": {},
   "source": [
    "Add the sensor to the system"
   ]
  },
  {
   "cell_type": "code",
   "execution_count": 9,
   "metadata": {},
   "outputs": [],
   "source": [
    "async def addSensor(board):\n",
    "    await asyncio.sleep(1)\n",
    "    button = 21\n",
    "    await board.set_pin_mode_digital_input(button, callback=the_callback) # contains a small pull-down\n",
    "\n",
    "loop.run_until_complete(addSensor(board))\n",
    "\n"
   ]
  },
  {
   "cell_type": "markdown",
   "metadata": {},
   "source": [
    "Run for some time"
   ]
  },
  {
   "cell_type": "code",
   "execution_count": 10,
   "metadata": {},
   "outputs": [
    {
     "name": "stdout",
     "output_type": "stream",
     "text": [
      "0\n",
      "1\n",
      "0\n",
      "1\n",
      "0\n",
      "1\n",
      "0\n",
      "1\n",
      "0\n",
      "1\n",
      "0\n",
      "1\n",
      "0\n",
      "1\n",
      "0\n",
      "1\n",
      "0\n",
      "1\n",
      "0\n",
      "1\n",
      "shutting down!\n",
      "done\n"
     ]
    }
   ],
   "source": [
    "async def run_till_end(board):\n",
    "    # when to stop?\n",
    "    await asyncio.sleep(10)\n",
    "    await board.shutdown() # Otherwise next start will give you errors and you need to restart the kernel\n",
    "    await asyncio.sleep(1)\n",
    "    print(\"done\")\n",
    "\n",
    "loop.run_until_complete(run_till_end(board))"
   ]
  }
 ],
 "metadata": {
  "kernelspec": {
   "display_name": "Python 3",
   "language": "python",
   "name": "python3"
  },
  "language_info": {
   "codemirror_mode": {
    "name": "ipython",
    "version": 3
   },
   "file_extension": ".py",
   "mimetype": "text/x-python",
   "name": "python",
   "nbconvert_exporter": "python",
   "pygments_lexer": "ipython3",
   "version": "3.11.4"
  },
  "orig_nbformat": 4
 },
 "nbformat": 4,
 "nbformat_minor": 2
}
