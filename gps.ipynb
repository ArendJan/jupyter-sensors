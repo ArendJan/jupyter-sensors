{
 "cells": [
  {
   "cell_type": "code",
   "execution_count": null,
   "metadata": {},
   "outputs": [],
   "source": [
    "if True:\n",
    "    %pip install git+https://github.com/arendjan/tmx-pico-aio.git@sensors\n",
    "    %pip install nest_asyncio\n",
    "    %pip install pynmea2"
   ]
  },
  {
   "cell_type": "markdown",
   "metadata": {},
   "source": [
    "Hardware setup:\n",
    "\n",
    "![button](images/gps_bb.png)\n",
    "\n",
    "Pico connections:\n",
    "\n",
    "|Pin # | type  | connection |\n",
    "|-------|------|------------|\n",
    "| 18   | GND   |            |\n",
    "| 7   | GP5  | Pico RX to GPS TX      |\n",
    "| 36   | 3V3   |  VCC          |\n",
    "\n"
   ]
  },
  {
   "cell_type": "code",
   "execution_count": null,
   "metadata": {},
   "outputs": [],
   "source": [
    "import asyncio\n",
    "import sys\n",
    "import time\n",
    "from tmx_pico_aio import tmx_pico_aio\n",
    "import nest_asyncio\n",
    "import pynmea2\n",
    "nest_asyncio.apply() # for jupyter notebook asyncio stuff\n",
    "\n",
    "loop = asyncio.get_event_loop() \n",
    "\n",
    "board = tmx_pico_aio.TmxPicoAio(loop=loop)"
   ]
  },
  {
   "cell_type": "code",
   "execution_count": null,
   "metadata": {},
   "outputs": [],
   "source": [
    "current_sentence = \"\"\n",
    "items = []\n",
    "def gps_callback(data): # each few ms, the uart buffer is checked and forwarded. This will be a few bytes, so it needs to be buffered and only when a complete NMEA sentence is received can it be parsed\n",
    "    global current_sentence\n",
    "    current_sentence += \"\".join(map(lambda d: chr(d), data)) # list of ASCII integers to string\n",
    "    if \"\\n\" in current_sentence: # only parse complete lines\n",
    "        sentence = current_sentence.splitlines()\n",
    "        if len(sentence) > 1: # when current_sentence ends with a newline, it will have only one element\n",
    "            current_sentence = sentence[1]\n",
    "        else:\n",
    "            current_sentence = \"\"\n",
    "        try: # first sentence is always broken\n",
    "            msg = pynmea2.parse(sentence[0])\n",
    "        except:\n",
    "            return\n",
    "        # print(msg.fields) # what is in the NMEA message\n",
    "        # print(msg.name_to_idx) # What/how can we get those fields\n",
    "        # In jupyter notebooks these prints will be shown after the run_till_end cell\n",
    "        items.append(msg)\n",
    "        if msg.sentence_type == \"GGA\":\n",
    "            print(msg.latitude, msg.longitude)\n",
    "        if msg.sentence_type == 'RMC':\n",
    "            print(\"Speed\", msg.spd_over_grnd)\n"
   ]
  },
  {
   "cell_type": "code",
   "execution_count": null,
   "metadata": {},
   "outputs": [],
   "source": [
    "async def addSensor(board):\n",
    "    await asyncio.sleep(1)\n",
    "    # await board.set_pin_mode_i2c(0, 4, 5)\n",
    "    await asyncio.sleep(0.1)\n",
    "    await board.sensors.add_gps(rx=5, tx=4, uart_channel=1, callback=gps_callback) # check the pinout to make sure it is the correct uart channel\n",
    "\n",
    "\n",
    "loop.run_until_complete(addSensor(board))\n",
    "\n"
   ]
  },
  {
   "cell_type": "code",
   "execution_count": null,
   "metadata": {},
   "outputs": [],
   "source": [
    "async def run_till_end(board):\n",
    "    # when to stop?\n",
    "    await asyncio.sleep(10)\n",
    "    await board.shutdown() # Otherwise next start will give you errors and you need to restart the kernel\n",
    "    await asyncio.sleep(1)\n",
    "    print(\"done\")\n",
    "\n",
    "loop.run_until_complete(run_till_end(board))"
   ]
  },
  {
   "cell_type": "code",
   "execution_count": null,
   "metadata": {},
   "outputs": [],
   "source": [
    "items"
   ]
  }
 ],
 "metadata": {
  "kernelspec": {
   "display_name": "Python 3",
   "language": "python",
   "name": "python3"
  },
  "language_info": {
   "codemirror_mode": {
    "name": "ipython",
    "version": 3
   },
   "file_extension": ".py",
   "mimetype": "text/x-python",
   "name": "python",
   "nbconvert_exporter": "python",
   "pygments_lexer": "ipython3",
   "version": "3.11.4"
  },
  "orig_nbformat": 4
 },
 "nbformat": 4,
 "nbformat_minor": 2
}
